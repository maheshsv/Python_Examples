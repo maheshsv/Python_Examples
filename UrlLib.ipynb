{
  "nbformat": 4,
  "nbformat_minor": 0,
  "metadata": {
    "colab": {
      "name": "Untitled0.ipynb",
      "provenance": [],
      "collapsed_sections": [],
      "authorship_tag": "ABX9TyNgGWmXe3TDb5vryzVnmW5R",
      "include_colab_link": true
    },
    "kernelspec": {
      "name": "python3",
      "display_name": "Python 3"
    }
  },
  "cells": [
    {
      "cell_type": "markdown",
      "metadata": {
        "id": "view-in-github",
        "colab_type": "text"
      },
      "source": [
        "<a href=\"https://colab.research.google.com/github/maheshsv/Python_Examples/blob/main/UrlLib.ipynb\" target=\"_parent\"><img src=\"https://colab.research.google.com/assets/colab-badge.svg\" alt=\"Open In Colab\"/></a>"
      ]
    },
    {
      "cell_type": "code",
      "metadata": {
        "id": "foUa61ZPBIn8",
        "outputId": "c1d82ca5-8a5b-4d39-bf3f-af1d8e10268e",
        "colab": {
          "base_uri": "https://localhost:8080/",
          "height": 88
        }
      },
      "source": [
        "import json\n",
        "import ssl\n",
        "import urllib\n",
        "from urllib.request import urlopen\n",
        "\n",
        "data = '''\n",
        "[\n",
        "  { \"id\" : \"001\",\n",
        "    \"x\" : \"2\",\n",
        "    \"name\" : \"Chuck\"\n",
        "  } ,\n",
        "  { \"id\" : \"009\",\n",
        "    \"x\" : \"7\",\n",
        "    \"name\" : \"Brent\"\n",
        "  }\n",
        "]'''\n",
        "##url = input(\"Enter the file name to read\")\n",
        "# Ignore SSL certificate errors\n",
        "ctx = ssl.create_default_context()\n",
        "ctx.check_hostname = False\n",
        "ctx.verify_mode = ssl.CERT_NONE\n",
        "\n",
        "\n",
        "#fhand = open(input_file,\"r\")\n",
        "#url = input('Enter - ')\n",
        "#urlopen(input_file, context=ctx).read()\n",
        "data2 = urlopen(\"http://py4e-data.dr-chuck.net/comments_969219.json\", context=ctx).read()\n",
        "\n",
        "data = json.loads(data2)\n",
        "#info = json.loads(data)\n",
        "print('data:', data)\n",
        "total_count = list()\n",
        "for lst in data[\"comments\"]:\n",
        "  total_count.append(lst[\"count\"])\n",
        "\n",
        "print(sum(total_count))\n",
        "\n",
        "\n"
      ],
      "execution_count": 7,
      "outputs": [
        {
          "output_type": "stream",
          "text": [
            "Enter the file name to read\n",
            "data: {'note': 'This file contains the actual data for your assignment', 'comments': [{'name': 'Sung', 'count': 97}, {'name': 'Jema', 'count': 95}, {'name': 'Lottie', 'count': 92}, {'name': 'Ayda', 'count': 82}, {'name': 'Jameel', 'count': 82}, {'name': 'Jamal', 'count': 81}, {'name': 'Dissanayake', 'count': 80}, {'name': 'Aisha', 'count': 79}, {'name': 'Nell', 'count': 76}, {'name': 'Manus', 'count': 70}, {'name': 'Jenson', 'count': 69}, {'name': 'Gabriele', 'count': 66}, {'name': 'Connan', 'count': 66}, {'name': 'Youssef', 'count': 64}, {'name': 'Giada', 'count': 62}, {'name': 'Esther', 'count': 62}, {'name': 'Baron', 'count': 62}, {'name': 'Cassie', 'count': 60}, {'name': 'Darcie', 'count': 60}, {'name': 'Calan', 'count': 59}, {'name': 'Finnley', 'count': 59}, {'name': 'Jakob', 'count': 59}, {'name': 'Nepheli', 'count': 56}, {'name': 'Eliane', 'count': 53}, {'name': 'Syeda', 'count': 51}, {'name': 'Abubakar', 'count': 49}, {'name': 'Callin', 'count': 48}, {'name': 'Kalvyn', 'count': 46}, {'name': 'Axel', 'count': 42}, {'name': 'Jessamy', 'count': 41}, {'name': 'Colum', 'count': 40}, {'name': 'Sofie', 'count': 36}, {'name': 'Abdulmalik', 'count': 36}, {'name': 'Delaney', 'count': 35}, {'name': 'Karley', 'count': 35}, {'name': 'Breagh', 'count': 35}, {'name': 'Kirstin', 'count': 33}, {'name': 'Keeley', 'count': 31}, {'name': 'Nasifa', 'count': 29}, {'name': 'Korben', 'count': 24}, {'name': 'Miguel', 'count': 24}, {'name': 'Madisen', 'count': 19}, {'name': 'Erika', 'count': 18}, {'name': 'Shafaq', 'count': 18}, {'name': 'Ricards', 'count': 17}, {'name': 'Aleina', 'count': 13}, {'name': 'Theodore', 'count': 10}, {'name': 'Maizie', 'count': 6}, {'name': 'Faye', 'count': 2}, {'name': 'Anita', 'count': 1}]}\n",
            "2430\n"
          ],
          "name": "stdout"
        }
      ]
    }
  ]
}