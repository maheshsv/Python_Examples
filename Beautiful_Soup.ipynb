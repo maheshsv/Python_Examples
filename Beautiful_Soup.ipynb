{
  "nbformat": 4,
  "nbformat_minor": 0,
  "metadata": {
    "colab": {
      "name": "Untitled0.ipynb",
      "provenance": [],
      "collapsed_sections": [],
      "authorship_tag": "ABX9TyP89JFSom37fJbSexHL6sMq",
      "include_colab_link": true
    },
    "kernelspec": {
      "name": "python3",
      "display_name": "Python 3"
    }
  },
  "cells": [
    {
      "cell_type": "markdown",
      "metadata": {
        "id": "view-in-github",
        "colab_type": "text"
      },
      "source": [
        "<a href=\"https://colab.research.google.com/github/maheshsv/Python_Examples/blob/main/Beautiful_Soup.ipynb\" target=\"_parent\"><img src=\"https://colab.research.google.com/assets/colab-badge.svg\" alt=\"Open In Colab\"/></a>"
      ]
    },
    {
      "cell_type": "code",
      "metadata": {
        "id": "foUa61ZPBIn8",
        "outputId": "eb891670-8699-4051-fe25-e0755e4d5c37",
        "colab": {
          "base_uri": "https://localhost:8080/",
          "height": 51
        }
      },
      "source": [
        "# To run this, download the BeautifulSoup zip file\n",
        "# http://www.py4e.com/code3/bs4.zip\n",
        "# and unzip it in the same directory as this file\n",
        "\n",
        "import urllib.request, urllib.parse, urllib.error\n",
        "from bs4 import BeautifulSoup\n",
        "import ssl\n",
        "\n",
        "# Ignore SSL certificate errors\n",
        "ctx = ssl.create_default_context()\n",
        "ctx.check_hostname = False\n",
        "ctx.verify_mode = ssl.CERT_NONE\n",
        "\n",
        "url = input('Enter - ')\n",
        "html = urllib.request.urlopen(url, context=ctx).read()\n",
        "soup = BeautifulSoup(html, 'html.parser')\n",
        "initial_count = 0\n",
        "final_count = 3\n",
        "follow_count = 4\n",
        "inital_follow_count = 0\n",
        "# Retrieve all of the anchor tags\n",
        "tags = soup('a')\n",
        "for tag in tags:\n",
        "    # if final_count >= initial_count:\n",
        "    initial_count = initial_count +1\n",
        "    if(initial_count == 18):\n",
        "      print(initial_count,tag.get('href', None))"
      ],
      "execution_count": 8,
      "outputs": [
        {
          "output_type": "stream",
          "text": [
            "Enter - http://py4e-data.dr-chuck.net/known_by_Kallin.html\n",
            "18 http://py4e-data.dr-chuck.net/known_by_Hena.html\n"
          ],
          "name": "stdout"
        }
      ]
    }
  ]
}